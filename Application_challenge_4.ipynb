{
  "nbformat": 4,
  "nbformat_minor": 0,
  "metadata": {
    "colab": {
      "provenance": [],
      "authorship_tag": "ABX9TyPfnZLCTubyP0Q2Okkz0HFg",
      "include_colab_link": true
    },
    "kernelspec": {
      "name": "python3",
      "display_name": "Python 3"
    },
    "language_info": {
      "name": "python"
    }
  },
  "cells": [
    {
      "cell_type": "markdown",
      "metadata": {
        "id": "view-in-github",
        "colab_type": "text"
      },
      "source": [
        "<a href=\"https://colab.research.google.com/github/appu1mm/challenge/blob/main/Application_challenge_4.ipynb\" target=\"_parent\"><img src=\"https://colab.research.google.com/assets/colab-badge.svg\" alt=\"Open In Colab\"/></a>"
      ]
    },
    {
      "cell_type": "markdown",
      "source": [
        "## Application Challenge: RL Circuit Response to a Voltage Pulse\n",
        "Instead of an instantaneous impulse, let’s consider a more realistic scenario where a voltage is applied for a fixed duration. This creates a rectangular voltage pulse.\n",
        "\n",
        " Your Task\n",
        "\n",
        "Model the same RL circuit ($R=10 \\Omega$\n",
        ",\n",
        ") but change the input voltage. The new input, $V_{in}(t)$\n",
        ", is a 5V pulse that starts at t=1 second and ends at t=3 seconds. * Input Voltage: $$V_{in}(t) = \\begin{cases} 0 & t < 1 \\\\ 5 & 1 \\le t < 3 \\\\ 0 & t \\ge 3 \\end{cases}$$\n",
        "\n",
        "\n",
        "- `Governing Equation: `$L \\frac{di(t)}{dt} + R i(t) = V_{in}(t)$\n",
        "\n",
        "\n",
        "- `Initial Condition:` The circuit starts with zero current, $i(0)=0$\n",
        ".\n",
        "\n",
        "Find and visualize the current response\n",
        ".\n",
        "\n",
        "\n",
        "## The Challenge\n",
        "1. Represent the rectangular voltage pulse,$V_{in}(t)$  \n",
        ", using a combination of two Heaviside step functions.\n",
        "\n",
        "2. Set up the differential equation in SymPy with this new input.\n",
        "\n",
        "3. Use dsolve with the initial condition to find the symbolic solution for the current, $i(t)$\n",
        ".\n",
        "\n",
        "4. Plot both the input voltage pulse and the resulting current on the same graph to see the cause-and-effect relationship.\n",
        "\n",
        " ## Hint\n",
        "A pulse that turns on at $t=a$\n",
        " and off at $t=b$\n",
        " with height H can be constructed as: $f(t) = H \\cdot [u(t-a) - u(t-b)]$\n",
        ". In SymPy, this would be H * (sp.Heaviside(t - a) - sp.Heaviside(t - b)).\n",
        "\n",
        "\n",
        " ## Solution to the Application Challenge\n",
        "Here is the complete Python implementation and analysis for the RL circuit’s response to the defined voltage pulse.\n",
        "\n",
        "## Python Implementation"
      ],
      "metadata": {
        "id": "eGwZPq4UD6WT"
      }
    },
    {
      "cell_type": "code",
      "source": [
        "import sympy as sp\n",
        "import numpy as np\n",
        "import matplotlib.pyplot as plt\n",
        "\n",
        "# --- 1. Define Symbols, Function, and Parameters ---\n",
        "t = sp.Symbol('t', positive=True)\n",
        "i = sp.Function('i')\n",
        "\n",
        "# System parameters\n",
        "R = 10.0\n",
        "L = 1.0\n",
        "V_amp = 5.0 # Amplitude of the voltage pulse\n",
        "\n",
        "# --- 2. Define the Pulse Input and the ODE ---\n",
        "# Construct the rectangular pulse using two Heaviside functions\n",
        "V_in = V_amp * (sp.Heaviside(t - 1) - sp.Heaviside(t - 3))\n",
        "\n",
        "# Define the differential equation\n",
        "ode = L * i(t).diff(t) + R * i(t) - V_in\n",
        "\n",
        "# Solve using dsolve with the initial condition i(0)=0\n",
        "solution = sp.dsolve(ode, ics={i(0): 0})\n",
        "\n",
        "# Display the symbolic solution\n",
        "print(\"The symbolic solution for the current i(t) is:\")\n",
        "display(solution)\n",
        "i_t = solution.rhs\n",
        "\n",
        "# --- 3. Visualize the Solution and the Input ---\n",
        "# Create numerical functions for plotting\n",
        "i_func = sp.lambdify(t, i_t, 'numpy')\n",
        "V_func = sp.lambdify(t, V_in, 'numpy')\n",
        "\n",
        "t_vals = np.linspace(0, 5, 1000) # Plot for 5 seconds to see the full decay\n",
        "\n",
        "i_vals = [i_func(t_val) for t_val in t_vals]\n",
        "V_vals = V_func(t_vals)\n",
        "\n",
        "\n",
        "# Create the plot\n",
        "fig, ax1 = plt.subplots(figsize=(10, 6))\n",
        "\n",
        "# Plot the current (left y-axis)\n",
        "color = 'tab:blue'\n",
        "ax1.set_xlabel('Time (t) [s]')\n",
        "ax1.set_ylabel('Current i(t) [A]', color=color)\n",
        "ax1.plot(t_vals, i_vals, color=color, linewidth=2, label='Current i(t)')\n",
        "ax1.tick_params(axis='y', labelcolor=color)\n",
        "ax1.grid(True)\n",
        "\n",
        "# Create a second y-axis for the voltage\n",
        "ax2 = ax1.twinx()\n",
        "color = 'tab:red'\n",
        "ax2.set_ylabel('Voltage V_in(t) [V]', color=color)\n",
        "ax2.plot(t_vals, V_vals, color=color, linestyle='--', label='Input Voltage V(t)')\n",
        "ax2.tick_params(axis='y', labelcolor=color)\n",
        "ax2.set_ylim(-0.5, 6) # Set voltage limits for clarity\n",
        "\n",
        "fig.suptitle('RL Circuit Response to a Voltage Pulse', fontsize=16)\n",
        "# Combine legends from both axes\n",
        "lines, labels = ax1.get_legend_handles_labels()\n",
        "lines2, labels2 = ax2.get_legend_handles_labels()\n",
        "ax2.legend(lines + lines2, labels + labels2, loc='upper right')\n",
        "\n",
        "fig.tight_layout(rect=[0, 0, 1, 0.96])\n",
        "plt.show()"
      ],
      "metadata": {
        "id": "xTFgHxkUD-sT"
      },
      "execution_count": null,
      "outputs": []
    },
    {
      "cell_type": "markdown",
      "source": [
        "## Results and Discussion\n",
        "- Symbolic Solution: The solution provided by SymPy is a piecewise function. This is the correct mathematical representation, as the behavior of the current is described by different equations during different time intervals, corresponding to when the voltage is off, on, and off again.\n",
        "\n",
        "- Visual Analysis & Physical Interpretation: The plot clearly shows three distinct phases of behavior: Phase 1 ($0 \\leq t < 1$\n",
        "): The input voltage is zero. The circuit is at rest, and the current $i(t)$\n",
        " remains zero, satisfying the initial condition.\n",
        "\n",
        "- Phase 2 ($1 \\leq t < 3$\n",
        "): The 5V pulse is applied. The current begins to rise exponentially, following the characteristic charging curve of an RL circuit. It aims for a steady-state value of I$\n",
        "_{max} =\\frac{V}{R}=5V/10\\Omega =0.5A$\n",
        "\n",
        ". However, the voltage is turned off before it can reach this steady state.\n",
        "\n",
        "- Phase 3 ($t \\geq 3$\n",
        "): The input voltage drops back to zero. The inductor, which had stored energy in its magnetic field, now acts as a temporary source. It forces the current to continue flowing, but with the circuit now closed and the external source gone, the current decays exponentially as the stored energy is dissipated by the resistor.\n",
        "\n",
        "- Engineering Significance: This simulation is extremely practical. It models how a digital logic signal (a pulse) affects an inductive load like a relay or motor winding. The solution shows that the current doesn’t instantaneously follow the voltage; there is a lag due to the inductor’s opposition to a change in current. It also demonstrates that even after the input signal is removed, a current can persist for a short time, a crucial consideration for timing in high-speed circuits. The use of Heaviside functions provides a powerful and elegant way to model and analyze these common switching phenomena."
      ],
      "metadata": {
        "id": "Az0ej_k6EJBb"
      }
    }
  ]
}